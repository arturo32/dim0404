{
 "cells": [
  {
   "cell_type": "code",
   "execution_count": 8,
   "id": "8edeff89-96f1-4755-b47b-adc111587559",
   "metadata": {},
   "outputs": [
    {
     "data": {
      "text/latex": [
       "$\\displaystyle 2$"
      ],
      "text/plain": [
       "2"
      ]
     },
     "execution_count": 8,
     "metadata": {},
     "output_type": "execute_result"
    }
   ],
   "source": [
    "import numpy as np\n",
    "from sympy import *\n",
    "x = symbols('x')\n",
    "f = x\n",
    "F = integrate(f, (x, 0, 2))\n",
    "F"
   ]
  },
  {
   "cell_type": "code",
   "execution_count": 10,
   "id": "90bf0e7d-8750-48b6-84b3-a3eab34a57de",
   "metadata": {},
   "outputs": [
    {
     "data": {
      "text/latex": [
       "$\\displaystyle - \\frac{4}{3}$"
      ],
      "text/plain": [
       "-4/3"
      ]
     },
     "execution_count": 10,
     "metadata": {},
     "output_type": "execute_result"
    }
   ],
   "source": [
    "f = np.power(x, 3) - 2*np.power(x, 2) + 4*x\n",
    "F = integrate(f, (x, -1, 1))\n",
    "F"
   ]
  },
  {
   "cell_type": "code",
   "execution_count": 12,
   "id": "ae0c5b9f-715b-433e-88bc-19b095a7cc59",
   "metadata": {},
   "outputs": [
    {
     "data": {
      "text/latex": [
       "$\\displaystyle - \\frac{2^{1 + \\pi}}{1 + \\pi} + \\frac{4^{1 + \\pi}}{1 + \\pi}$"
      ],
      "text/plain": [
       "-2**(1 + pi)/(1 + pi) + 4**(1 + pi)/(1 + pi)"
      ]
     },
     "execution_count": 12,
     "metadata": {},
     "output_type": "execute_result"
    }
   ],
   "source": [
    "f = np.power(x, pi)\n",
    "F = integrate(f, (x, 2, 4))\n",
    "F"
   ]
  },
  {
   "cell_type": "code",
   "execution_count": 16,
   "id": "1451789e-c46b-4717-803c-30ac0e5376b2",
   "metadata": {},
   "outputs": [
    {
     "data": {
      "text/latex": [
       "$\\displaystyle - \\frac{1}{e} + e^{-2} + \\log{\\left(2 \\right)}$"
      ],
      "text/plain": [
       "-exp(-1) + exp(-2) + log(2)"
      ]
     },
     "execution_count": 16,
     "metadata": {},
     "output_type": "execute_result"
    }
   ],
   "source": [
    "f = (1/x) - exp(-x)\n",
    "F = integrate(f, (x, 1, 2))\n",
    "F"
   ]
  },
  {
   "cell_type": "code",
   "execution_count": 21,
   "id": "e2c9c117-4fb8-439f-bcea-03ab04e504a9",
   "metadata": {},
   "outputs": [
    {
     "name": "stdout",
     "output_type": "stream",
     "text": [
      "12.000545730742438\n"
     ]
    }
   ],
   "source": [
    "# Método de newton: calculando raizes quadradas\n",
    "def root_newton(a, niter, min_error):\n",
    "    old_x = 1\n",
    "    for i in range(niter):\n",
    "        x = (old_x + (a/old_x)) * 0.5\n",
    "        e =  np.abs(x - old_x)/np.abs(x)\n",
    "        if(e < min_error):\n",
    "            return x\n",
    "        old_x = x\n",
    "    return x\n",
    "\n",
    "print(root_newton(144, 100000, 0.1))\n",
    "        \n",
    "    "
   ]
  }
 ],
 "metadata": {
  "kernelspec": {
   "display_name": "Python 3 (ipykernel)",
   "language": "python",
   "name": "python3"
  },
  "language_info": {
   "codemirror_mode": {
    "name": "ipython",
    "version": 3
   },
   "file_extension": ".py",
   "mimetype": "text/x-python",
   "name": "python",
   "nbconvert_exporter": "python",
   "pygments_lexer": "ipython3",
   "version": "3.9.18"
  }
 },
 "nbformat": 4,
 "nbformat_minor": 5
}
