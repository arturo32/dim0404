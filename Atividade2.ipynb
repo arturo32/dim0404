{
 "cells": [
  {
   "cell_type": "code",
   "execution_count": 10,
   "id": "d3bf9850-9ec0-4c60-8517-4b8fea430939",
   "metadata": {},
   "outputs": [
    {
     "data": {
      "text/plain": [
       "(67, 1)"
      ]
     },
     "execution_count": 10,
     "metadata": {},
     "output_type": "execute_result"
    }
   ],
   "source": [
    "import numpy as np\n",
    "def max_and_min(X):\n",
    "    max = X[0]\n",
    "    min = X[0]\n",
    "    for i in X:\n",
    "        if i < min:\n",
    "            min = i\n",
    "        if i > max:\n",
    "            max = i\n",
    "    return (max, min)\n",
    "\n",
    "\n",
    "max_and_min([1 ,2, 3, 4, 6, 7, 2, 67 , 43])\n",
    "            "
   ]
  },
  {
   "cell_type": "code",
   "execution_count": 11,
   "id": "f2f147a9-a532-4ebb-a446-62b080a4b199",
   "metadata": {},
   "outputs": [
    {
     "data": {
      "text/plain": [
       "20.248456731316587"
      ]
     },
     "execution_count": 11,
     "metadata": {},
     "output_type": "execute_result"
    }
   ],
   "source": [
    "def min_euc_dist(A, B):\n",
    "    min_dist = np.sqrt((A[0][0] - B[0][0])**2 + (A[0][1] - B[0][1])**2)\n",
    "    for (a1, a2) in A:\n",
    "        for (b1, b2) in B:\n",
    "            cur_dist = np.sqrt((a1 - b1)**2 + (a2 - b2)**2)\n",
    "            if cur_dist < min_dist:\n",
    "                min_dist = cur_dist\n",
    "    return min_dist\n",
    "            \n",
    "\n",
    "min_euc_dist([(1, 3), (3, 4)], [(10, 23), (34, 56)])"
   ]
  },
  {
   "cell_type": "code",
   "execution_count": 13,
   "id": "261260a6-e845-447a-bb2b-f1a3b7dbe55d",
   "metadata": {},
   "outputs": [
    {
     "data": {
      "text/plain": [
       "[2, 3, 5, 9, 12, 23, 56, 65, 67, 345]"
      ]
     },
     "execution_count": 13,
     "metadata": {},
     "output_type": "execute_result"
    }
   ],
   "source": [
    "def sort(X):\n",
    "    N = len(X)\n",
    "    for i in range(N):\n",
    "        for j in range(N):\n",
    "            if X[i] < X[j]:\n",
    "                aux = X[i]\n",
    "                X[i]= X[j]\n",
    "                X[j]= aux\n",
    "    return X\n",
    "\n",
    "sort([2, 3, 9, 67, 23, 12 ,345 ,56 ,65, 5])"
   ]
  }
 ],
 "metadata": {
  "kernelspec": {
   "display_name": "Python 3 (ipykernel)",
   "language": "python",
   "name": "python3"
  },
  "language_info": {
   "codemirror_mode": {
    "name": "ipython",
    "version": 3
   },
   "file_extension": ".py",
   "mimetype": "text/x-python",
   "name": "python",
   "nbconvert_exporter": "python",
   "pygments_lexer": "ipython3",
   "version": "3.9.18"
  }
 },
 "nbformat": 4,
 "nbformat_minor": 5
}
