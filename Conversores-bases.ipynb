{
 "cells": [
  {
   "cell_type": "code",
   "execution_count": 87,
   "id": "533b749d-0611-43a2-9e06-b700754fd507",
   "metadata": {},
   "outputs": [
    {
     "name": "stdout",
     "output_type": "stream",
     "text": [
      "aaaa 17\n",
      "17.75\n"
     ]
    }
   ],
   "source": [
    "# converte da base B para base 10\n",
    "def bToTen(B, x):\n",
    "    intPart, decPart = str(x).split(\".\")\n",
    "    intPart = intPart[::-1]\n",
    "    intB = 0\n",
    "    decB = 0\n",
    "    for i in range(len(intPart)):\n",
    "        intB = intB + int(intPart[i])*B**i\n",
    "\n",
    "    for i in range(len(decPart)):\n",
    "        decB = decB + int(decPart[i])*B**(-(i+1))\n",
    "\n",
    "    print(\"aaaa\", intB)\n",
    "    return intB + decB\n",
    "    \n",
    "print(bToTen(2, 10001.11))"
   ]
  },
  {
   "cell_type": "code",
   "execution_count": 86,
   "id": "c9134575-57fe-4e85-a48d-ed5ffda132cd",
   "metadata": {},
   "outputs": [
    {
     "name": "stdout",
     "output_type": "stream",
     "text": [
      "\n",
      "11011.\n",
      "\n",
      "0.0010001101010011111101111100111011011001000101101000011100101011000000100000110001001001101110100101\n",
      "\n",
      "101101.0010000011000100100110111010010111100011010100111111011111001110110110010001011010000111001010110000\n",
      "aaaa 16\n",
      "\n",
      "10000.\n",
      "aaaa 0\n",
      "\n",
      "0.0110001001001101110100101111000110101001111110111110011101101100100010110100001110010101100000010000\n",
      "aaaa 0\n",
      "\n",
      "0.323\n",
      "aaaa 7\n",
      "\n",
      "7.04\n",
      "aaaa 9\n",
      "9.5\n",
      "aaaa 9\n",
      "\n",
      "100.1111111111111111111111111111111111111111111111111111111111111111111111111111111111111111111111111111\n"
     ]
    }
   ],
   "source": [
    "def tenToB(B, x):\n",
    "    intPart, decPart = str(x).split(\".\")\n",
    "    intPart = int(intPart)\n",
    "    intTen = []\n",
    "    decTen = []\n",
    "    while intPart >= B:\n",
    "        intTen.append(intPart - (intPart//B)*B)\n",
    "        intPart = intPart//B\n",
    "    intTen.append(intPart)\n",
    "    intTen = intTen[::-1]\n",
    "\n",
    "    print()\n",
    "    t = 0\n",
    "    decPart = float(\"0.\" + decPart)\n",
    "    while decPart != 0 and t < 100:\n",
    "        x1, x2 = str(decPart * B).split(\".\")\n",
    "        decTen.append(x1)\n",
    "        decPart = float(\"0.\" + x2)\n",
    "        t = t + 1\n",
    "    \n",
    "\n",
    "    return \"\".join(map(str, intTen)) + \".\" + \"\".join(decTen)\n",
    "\n",
    "\n",
    "\n",
    "# print(tenToB(2, 17.3))\n",
    "\n",
    "print(tenToB(2, 27.0))\n",
    "print(tenToB(2, 0.138))\n",
    "print(tenToB(2, 45.128))\n",
    "print(tenToB(2, bToTen(5, 13.0)))\n",
    "print(tenToB(2, bToTen(5, 0.143)))\n",
    "print(tenToB(4, bToTen(2, 0.111011)))\n",
    "print(tenToB(8, bToTen(2, 111.0001)))\n",
    "print(bToTen(4, 12.20))\n",
    "print(tenToB(3, bToTen(4, 12.2)))"
   ]
  }
 ],
 "metadata": {
  "kernelspec": {
   "display_name": "Python 3 (ipykernel)",
   "language": "python",
   "name": "python3"
  },
  "language_info": {
   "codemirror_mode": {
    "name": "ipython",
    "version": 3
   },
   "file_extension": ".py",
   "mimetype": "text/x-python",
   "name": "python",
   "nbconvert_exporter": "python",
   "pygments_lexer": "ipython3",
   "version": "3.9.18"
  }
 },
 "nbformat": 4,
 "nbformat_minor": 5
}
